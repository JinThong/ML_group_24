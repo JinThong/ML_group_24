{
 "cells": [
  {
   "cell_type": "code",
   "execution_count": null,
   "id": "8e3cdc5a",
   "metadata": {},
   "outputs": [],
   "source": [
    "import os\n",
    "import shutil\n",
    "import random\n",
    "\n",
    "def split_dataset(dataset_dir, output_dir, train_ratio=0.7, val_ratio=0.15, test_ratio=0.15):\n",
    "    # Ensure the ratios sum to 1.0\n",
    "    assert train_ratio + val_ratio + test_ratio == 1.0, \"The ratios must sum to 1.0\"\n",
    "    \n",
    "    # Create output directories\n",
    "    for split in ['train', 'validation', 'test']:\n",
    "        for category in os.listdir(dataset_dir):\n",
    "            os.makedirs(os.path.join(output_dir, split, category), exist_ok=True)\n",
    "    \n",
    "    # Split the dataset\n",
    "    for category in os.listdir(dataset_dir):\n",
    "        category_path = os.path.join(dataset_dir, category)\n",
    "        images = os.listdir(category_path)\n",
    "        random.shuffle(images)\n",
    "        \n",
    "        train_split = int(train_ratio * len(images))\n",
    "        val_split = int((train_ratio + val_ratio) * len(images))\n",
    "        \n",
    "        train_images = images[:train_split]\n",
    "        val_images = images[train_split:val_split]\n",
    "        test_images = images[val_split:]\n",
    "        \n",
    "        # Copy images to respective directories\n",
    "        for image in train_images:\n",
    "            shutil.copy(os.path.join(category_path, image), os.path.join(output_dir, 'train', category))\n",
    "        \n",
    "        for image in val_images:\n",
    "            shutil.copy(os.path.join(category_path, image), os.path.join(output_dir, 'validation', category))\n",
    "        \n",
    "        for image in test_images:\n",
    "            shutil.copy(os.path.join(category_path, image), os.path.join(output_dir, 'test', category))\n",
    "\n",
    "# Paths\n",
    "dataset_dir = '/kaggle/input/brain-scan-sit/dataset_24'\n",
    "output_dir = '/kaggle/working/dataset_split'\n",
    "\n",
    "# Split the dataset\n",
    "split_dataset(dataset_dir, output_dir)\n"
   ]
  }
 ],
 "metadata": {
  "kernelspec": {
   "display_name": "Python 3 (ipykernel)",
   "language": "python",
   "name": "python3"
  },
  "language_info": {
   "codemirror_mode": {
    "name": "ipython",
    "version": 3
   },
   "file_extension": ".py",
   "mimetype": "text/x-python",
   "name": "python",
   "nbconvert_exporter": "python",
   "pygments_lexer": "ipython3",
   "version": "3.9.12"
  }
 },
 "nbformat": 4,
 "nbformat_minor": 5
}
