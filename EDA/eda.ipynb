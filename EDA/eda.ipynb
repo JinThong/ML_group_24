{
 "cells": [
  {
   "cell_type": "code",
   "execution_count": 1,
   "metadata": {},
   "outputs": [],
   "source": [
    "import os"
   ]
  },
  {
   "cell_type": "code",
   "execution_count": 2,
   "metadata": {},
   "outputs": [
    {
     "name": "stdout",
     "output_type": "stream",
     "text": [
      "Total 4 Classes:\n",
      "{'glioma': 120, 'meningioma': 120, 'notumor': 120, 'pituitary': 120}\n"
     ]
    }
   ],
   "source": [
    "# Set the path to the dataset\n",
    "dataset_path = '../dataset_24'\n",
    "\n",
    "image_classes = os.listdir(dataset_path)\n",
    "\n",
    "count_dict = {}\n",
    "for class_name in image_classes:\n",
    "    class_dir = os.path.join(dataset_path, class_name)\n",
    "    total = 0\n",
    "    for img in os.listdir(class_dir):\n",
    "        total += 1\n",
    "    count_dict[class_name] = total\n",
    "\n",
    "print(f\"Total {len(image_classes)} Classes:\")\n",
    "print(count_dict)"
   ]
  }
 ],
 "metadata": {
  "kernelspec": {
   "display_name": "Python 3",
   "language": "python",
   "name": "python3"
  },
  "language_info": {
   "codemirror_mode": {
    "name": "ipython",
    "version": 3
   },
   "file_extension": ".py",
   "mimetype": "text/x-python",
   "name": "python",
   "nbconvert_exporter": "python",
   "pygments_lexer": "ipython3",
   "version": "3.10.7"
  }
 },
 "nbformat": 4,
 "nbformat_minor": 2
}
